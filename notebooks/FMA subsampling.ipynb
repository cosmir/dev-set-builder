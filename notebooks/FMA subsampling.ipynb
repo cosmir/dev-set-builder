{
 "cells": [
  {
   "cell_type": "markdown",
   "metadata": {},
   "source": [
    "# 2018-01-12 / FMA sub-sampling\n",
    "\n",
    "* Problem statement:\n",
    "  * Input:\n",
    "    * `C` csv files\n",
    "    * each file has `n` rows. Each row in file `c` encodes the prediction for class `c` on a 1sec segment.\n",
    "    * A target number `k`\n",
    "    * Target fractions for class representations `p[c]`.\n",
    "    \n",
    "  * Output:\n",
    "    * A set of `k` clips, each 10 seconds in duration\n",
    "    * Aggregate predicted likelihoods for each class `c` on each clip `k`\n",
    "    * Each class `c` has aggregate likelihood at least `p[c] * k`\n",
    "\n",
    "\n",
    "* Method:\n",
    "  1. drop edge effects from the beginning and end of tracks: remove the first and last frames from each track.\n",
    "  2. window the frame observations into 10sec clips with aggregate labels\n",
    "  3. threshold the aggregate likelihoods to binarize the representation\n",
    "  4. subsample the 10sec clips using entrofy\n",
    "\n",
    "\n",
    "* Questions:\n",
    "  * How should likelihoods be aggregated within a segment?\n",
    "    * Mean?  Max?  Quartile?\n",
    "    * Mean makes sense from the perspective of random frame sampling\n",
    "    * Quartile makes sense wrt sparse events\n",
    "    * Max makes sense wrt extremely sparse events\n",
    "  * How should likelihoods be thresholded?  0.5?  Empirical average over X?\n",
    "    * $p[y] = \\sum_x p[y|x] * p[x] \\approx \\sum_{x \\in X} p[y|x] /|X| $\n",
    "    * But that doesn't matter really.  Threshold should be bayes optimal (=> 0.5)\n",
    "  * What's the target number of positives per class `k * p[c]`? \n",
    "    * Maybe that should be determined by the base rate estimation `p[y]`?\n",
    "  \n",
    "  \n",
    "* Next step: Question scheduling on CF.\n",
    "  * Idea: cluster the tracks according to aggregated likelihood vectors\n",
    "    * Or maybe by their thresholded likelihoods?\n",
    "  * Set the number of clusters to be relatively large (say, 23^2 ~= 512)\n",
    "  * When generating questions for an annotator, assign them to a cluster and only generate questions from that cluster\n",
    "  * Reasoning: this will keep the labels consistent from one question to the next"
   ]
  },
  {
   "cell_type": "code",
   "execution_count": null,
   "metadata": {},
   "outputs": [],
   "source": []
  }
 ],
 "metadata": {
  "kernelspec": {
   "display_name": "Python 3.5",
   "language": "python",
   "name": "python3.5"
  },
  "language_info": {
   "codemirror_mode": {
    "name": "ipython",
    "version": 3
   },
   "file_extension": ".py",
   "mimetype": "text/x-python",
   "name": "python",
   "nbconvert_exporter": "python",
   "pygments_lexer": "ipython3",
   "version": "3.5.4"
  }
 },
 "nbformat": 4,
 "nbformat_minor": 2
}
