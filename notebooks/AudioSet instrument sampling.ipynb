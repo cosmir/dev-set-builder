{
 "cells": [
  {
   "cell_type": "code",
   "execution_count": 1,
   "metadata": {},
   "outputs": [],
   "source": [
    "import pandas as pd\n",
    "import json"
   ]
  },
  {
   "cell_type": "code",
   "execution_count": 2,
   "metadata": {},
   "outputs": [],
   "source": [
    "from collections import defaultdict"
   ]
  },
  {
   "cell_type": "code",
   "execution_count": 3,
   "metadata": {},
   "outputs": [],
   "source": [
    "from tqdm import tqdm_notebook as tqdm"
   ]
  },
  {
   "cell_type": "code",
   "execution_count": 4,
   "metadata": {},
   "outputs": [],
   "source": [
    "import imp"
   ]
  },
  {
   "cell_type": "markdown",
   "metadata": {},
   "source": [
    "### Load the instrument class ids"
   ]
  },
  {
   "cell_type": "code",
   "execution_count": 20,
   "metadata": {},
   "outputs": [],
   "source": [
    "ont = json.load(open('../schema/ontology.json', 'r'))"
   ]
  },
  {
   "cell_type": "code",
   "execution_count": 21,
   "metadata": {},
   "outputs": [],
   "source": [
    "omap = {o['id']: o for o in ont}"
   ]
  },
  {
   "cell_type": "code",
   "execution_count": 22,
   "metadata": {},
   "outputs": [],
   "source": [
    "# ('Musical instrument', '/m/04szw')\n",
    "instrument_classes = omap['/m/04szw']['child_ids']\n",
    "instrument_classes.append('/m/015lz1') # Singing\n",
    "instrument_classes.append('/m/01swy6') # Yodeling\n",
    "instrument_classes.append('/t/dd00003') # Male singing\n",
    "instrument_classes.append('/t/dd00004') # Female singing\n",
    "instrument_classes.append('/t/dd00005') # Child singing"
   ]
  },
  {
   "cell_type": "code",
   "execution_count": 24,
   "metadata": {},
   "outputs": [],
   "source": [
    "good_classes = []"
   ]
  },
  {
   "cell_type": "code",
   "execution_count": 25,
   "metadata": {},
   "outputs": [],
   "source": [
    "candidates = [omap[i]['id'] for i in instrument_classes]"
   ]
  },
  {
   "cell_type": "code",
   "execution_count": 27,
   "metadata": {},
   "outputs": [],
   "source": [
    "while candidates:\n",
    "    new_class = candidates.pop()\n",
    "    good_classes.append(new_class)\n",
    "    candidates.extend(omap[new_class]['child_ids'])"
   ]
  },
  {
   "cell_type": "code",
   "execution_count": 28,
   "metadata": {},
   "outputs": [],
   "source": [
    "good_classes = sorted(list(set(good_classes)))"
   ]
  },
  {
   "cell_type": "code",
   "execution_count": 29,
   "metadata": {},
   "outputs": [],
   "source": [
    "class_map = {omap[i]['name']: i for i in good_classes}"
   ]
  },
  {
   "cell_type": "code",
   "execution_count": 30,
   "metadata": {},
   "outputs": [],
   "source": [
    "instruments = [omap[i]['name'] for i in good_classes]"
   ]
  },
  {
   "cell_type": "code",
   "execution_count": 32,
   "metadata": {},
   "outputs": [],
   "source": [
    "ns = imp.load_source('ns', '../scripts/namespaces.py')"
   ]
  },
  {
   "cell_type": "code",
   "execution_count": 33,
   "metadata": {},
   "outputs": [],
   "source": [
    "openmic25_to_audioset_ids = defaultdict(list)\n",
    "\n",
    "for k in ns.AUDIOSET_MAP:\n",
    "    openmic25_to_audioset_ids[ns.AUDIOSET_MAP[k]].append(class_map[k])\n",
    "    \n",
    "openmic25_to_audioset_ids = dict(openmic25_to_audioset_ids)"
   ]
  },
  {
   "cell_type": "code",
   "execution_count": 34,
   "metadata": {},
   "outputs": [],
   "source": [
    "ids_to_om25 = {}\n",
    "for k in openmic25_to_audioset_ids:\n",
    "    for aid in openmic25_to_audioset_ids[k]:\n",
    "        ids_to_om25[aid] = k"
   ]
  },
  {
   "cell_type": "code",
   "execution_count": 35,
   "metadata": {},
   "outputs": [],
   "source": [
    "good_ids = []\n",
    "for k in openmic25_to_audioset_ids:\n",
    "    good_ids.extend(openmic25_to_audioset_ids[k])"
   ]
  },
  {
   "cell_type": "markdown",
   "metadata": {},
   "source": [
    "## Load a slice of the training data"
   ]
  },
  {
   "cell_type": "code",
   "execution_count": 36,
   "metadata": {},
   "outputs": [
    {
     "name": "stderr",
     "output_type": "stream",
     "text": [
      "/home/bmcfee/miniconda/envs/py35/lib/python3.5/site-packages/ipykernel/__main__.py:2: ParserWarning: Falling back to the 'python' engine because the 'c' engine does not support regex separators (separators > 1 char and different from '\\s+' are interpreted as regex); you can avoid this warning by specifying engine='python'.\n",
      "  from ipykernel import kernelapp as app\n"
     ]
    }
   ],
   "source": [
    "df_bal = pd.read_csv('../data/audioset/balanced_train_segments.csv',\n",
    "                     skiprows=3, names=['YTID', 'start', 'end', 'labels'], quoting=2, sep=',\\s+')"
   ]
  },
  {
   "cell_type": "code",
   "execution_count": 37,
   "metadata": {},
   "outputs": [
    {
     "name": "stderr",
     "output_type": "stream",
     "text": [
      "/home/bmcfee/miniconda/envs/py35/lib/python3.5/site-packages/ipykernel/__main__.py:2: ParserWarning: Falling back to the 'python' engine because the 'c' engine does not support regex separators (separators > 1 char and different from '\\s+' are interpreted as regex); you can avoid this warning by specifying engine='python'.\n",
      "  from ipykernel import kernelapp as app\n"
     ]
    }
   ],
   "source": [
    "df_un = pd.read_csv('../data/audioset/unbalanced_train_segments.csv',\n",
    "                     skiprows=3, names=['YTID', 'start', 'end', 'labels'], quoting=2, sep=',\\s+')"
   ]
  },
  {
   "cell_type": "code",
   "execution_count": 38,
   "metadata": {},
   "outputs": [],
   "source": [
    "inst_set = set(good_ids)"
   ]
  },
  {
   "cell_type": "code",
   "execution_count": 39,
   "metadata": {},
   "outputs": [
    {
     "data": {
      "application/vnd.jupyter.widget-view+json": {
       "model_id": "9c12435512cc49159952456e17d015ae",
       "version_major": 2,
       "version_minor": 0
      },
      "text/html": [
       "<p>Failed to display Jupyter Widget of type <code>HBox</code>.</p>\n",
       "<p>\n",
       "  If you're reading this message in the Jupyter Notebook or JupyterLab Notebook, it may mean\n",
       "  that the widgets JavaScript is still loading. If this message persists, it\n",
       "  likely means that the widgets JavaScript library is either not installed or\n",
       "  not enabled. See the <a href=\"https://ipywidgets.readthedocs.io/en/stable/user_install.html\">Jupyter\n",
       "  Widgets Documentation</a> for setup instructions.\n",
       "</p>\n",
       "<p>\n",
       "  If you're reading this message in another frontend (for example, a static\n",
       "  rendering on GitHub or <a href=\"https://nbviewer.jupyter.org/\">NBViewer</a>),\n",
       "  it may mean that your frontend doesn't currently support widgets.\n",
       "</p>\n"
      ],
      "text/plain": [
       "HBox(children=(IntProgress(value=0, description='Balanced set', max=22160), HTML(value='')))"
      ]
     },
     "metadata": {},
     "output_type": "display_data"
    },
    {
     "name": "stdout",
     "output_type": "stream",
     "text": [
      "\n"
     ]
    },
    {
     "data": {
      "application/vnd.jupyter.widget-view+json": {
       "model_id": "c23f7c04f2e84f65bb8d64f9fc0b6cbb",
       "version_major": 2,
       "version_minor": 0
      },
      "text/html": [
       "<p>Failed to display Jupyter Widget of type <code>HBox</code>.</p>\n",
       "<p>\n",
       "  If you're reading this message in the Jupyter Notebook or JupyterLab Notebook, it may mean\n",
       "  that the widgets JavaScript is still loading. If this message persists, it\n",
       "  likely means that the widgets JavaScript library is either not installed or\n",
       "  not enabled. See the <a href=\"https://ipywidgets.readthedocs.io/en/stable/user_install.html\">Jupyter\n",
       "  Widgets Documentation</a> for setup instructions.\n",
       "</p>\n",
       "<p>\n",
       "  If you're reading this message in another frontend (for example, a static\n",
       "  rendering on GitHub or <a href=\"https://nbviewer.jupyter.org/\">NBViewer</a>),\n",
       "  it may mean that your frontend doesn't currently support widgets.\n",
       "</p>\n"
      ],
      "text/plain": [
       "HBox(children=(IntProgress(value=0, description='Unbalanced set', max=2041789), HTML(value='')))"
      ]
     },
     "metadata": {},
     "output_type": "display_data"
    },
    {
     "name": "stdout",
     "output_type": "stream",
     "text": [
      "\n"
     ]
    }
   ],
   "source": [
    "mapping = defaultdict(set)\n",
    "\n",
    "for i, (ytid, start, end, labels) in tqdm(df_bal.iterrows(), desc='Balanced set', total=len(df_bal)):\n",
    "    for tag in labels.strip('\"').split(','):\n",
    "        if tag in inst_set:\n",
    "            mapping[ids_to_om25[tag]].add((ytid, start, end))\n",
    "\n",
    "for i, (ytid, start, end, labels) in tqdm(df_un.iterrows(), desc='Unbalanced set', total=len(df_un)):\n",
    "    for tag in labels.strip('\"').split(','):\n",
    "        if tag in inst_set:\n",
    "            mapping[ids_to_om25[tag]].add((ytid, start, end))\n",
    "            \n",
    "mapping = dict(mapping)"
   ]
  },
  {
   "cell_type": "code",
   "execution_count": 40,
   "metadata": {},
   "outputs": [],
   "source": [
    "for k in mapping:\n",
    "    mapping[k] = sorted(list(mapping[k]))"
   ]
  },
  {
   "cell_type": "code",
   "execution_count": 43,
   "metadata": {},
   "outputs": [
    {
     "data": {
      "text/plain": [
       "[('accordion', 2833),\n",
       " ('bagpipes', 1715),\n",
       " ('banjo', 2396),\n",
       " ('bass', 8549),\n",
       " ('cello', 5215),\n",
       " ('clarinet', 2061),\n",
       " ('cymbals', 5365),\n",
       " ('drums', 26331),\n",
       " ('flute', 4721),\n",
       " ('guitar', 56926),\n",
       " ('harmonica', 2156),\n",
       " ('harp', 1983),\n",
       " ('mallet_percussion', 7257),\n",
       " ('mandolin', 2312),\n",
       " ('organ', 3578),\n",
       " ('piano', 12744),\n",
       " ('saxophone', 3013),\n",
       " ('synthesizer', 4981),\n",
       " ('trombone', 2731),\n",
       " ('trumpet', 3771),\n",
       " ('ukulele', 5232),\n",
       " ('violin', 28065),\n",
       " ('voice', 59441)]"
      ]
     },
     "execution_count": 43,
     "metadata": {},
     "output_type": "execute_result"
    }
   ],
   "source": [
    "[(k, len(mapping[k])) for k in sorted(mapping)]"
   ]
  },
  {
   "cell_type": "code",
   "execution_count": 44,
   "metadata": {},
   "outputs": [],
   "source": [
    "json.dump(mapping,\n",
    "          open('/home/bmcfee/git/cosmir/dev-set-builder/data/audioset/openmic25_index.json', 'w'),\n",
    "          indent=2)"
   ]
  }
 ],
 "metadata": {
  "kernelspec": {
   "display_name": "Python 3.5",
   "language": "python",
   "name": "python3.5"
  },
  "language_info": {
   "codemirror_mode": {
    "name": "ipython",
    "version": 3
   },
   "file_extension": ".py",
   "mimetype": "text/x-python",
   "name": "python",
   "nbconvert_exporter": "python",
   "pygments_lexer": "ipython3",
   "version": "3.5.4"
  }
 },
 "nbformat": 4,
 "nbformat_minor": 2
}
